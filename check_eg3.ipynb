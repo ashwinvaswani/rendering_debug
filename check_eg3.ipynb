{
 "cells": [
  {
   "cell_type": "code",
   "execution_count": 1,
   "metadata": {},
   "outputs": [],
   "source": [
    "import torch\n",
    "import numpy as np\n",
    "import pickle\n",
    "import cv2\n",
    "import matplotlib.pyplot as plt\n",
    "import pytorch3d\n",
    "import pytorch3d.io\n",
    "import json\n",
    "import random\n",
    "import pickle\n",
    "import matplotlib.pyplot as plt\n",
    "from pytorch3d.vis.plotly_vis import AxisArgs, plot_batch_individually, plot_scene"
   ]
  },
  {
   "cell_type": "code",
   "execution_count": null,
   "metadata": {},
   "outputs": [],
   "source": [
    "# Code to get depth:\n",
    "\n",
    "# raster_settings = RasterizationSettings(\n",
    "#         image_size=image_size, blur_radius=0.0, faces_per_pixel=1, \n",
    "#         perspective_correct=True,\n",
    "#         bin_size=0\n",
    "#     )\n",
    "# rasterizer=MeshRasterizer(raster_settings=raster_settings)\n",
    "# fragments = rasterizer(meshes, cameras=cameras)\n",
    "# depth = fragments.zbuf[0].cpu().numpy()"
   ]
  },
  {
   "cell_type": "code",
   "execution_count": 21,
   "metadata": {},
   "outputs": [],
   "source": [
    "mesh_path = './pose__01_11_gender_m_shape_624_texture_nongrey_male_0364_time_1260'\n",
    "depth_path1 = './pose__01_11_gender_m_shape_624_texture_nongrey_male_0364_time_1260_angle_0_x_0.26754171723194514_y_-0.18489293568114512_z_2.424635552723259.pkl'\n",
    "depth_path2 = './pose__01_11_gender_m_shape_624_texture_nongrey_male_0364_time_1260_angle_1_x_0.26754171723194514_y_-0.18489293568114512_z_2.424635552723259.pkl'\n",
    "depth_path3 = './pose__01_11_gender_m_shape_624_texture_nongrey_male_0364_time_1260_angle_2_x_0.26754171723194514_y_-0.18489293568114512_z_2.424635552723259.pkl'\n",
    "depth_path4 = './pose__01_11_gender_m_shape_624_texture_nongrey_male_0364_time_1260_angle_3_x_0.26754171723194514_y_-0.18489293568114512_z_2.424635552723259.pkl'\n",
    "depth_path5 = './pose__01_11_gender_m_shape_624_texture_nongrey_male_0364_time_1260_angle_4_x_0.26754171723194514_y_-0.18489293568114512_z_2.424635552723259.pkl'\n",
    "depth_path6 = './pose__01_11_gender_m_shape_624_texture_nongrey_male_0364_time_1260_angle_5_x_0.26754171723194514_y_-0.18489293568114512_z_2.424635552723259.pkl'"
   ]
  },
  {
   "cell_type": "code",
   "execution_count": 25,
   "metadata": {},
   "outputs": [
    {
     "data": {
      "text/plain": [
       "<matplotlib.image.AxesImage at 0x7fd023d3b280>"
      ]
     },
     "execution_count": 25,
     "metadata": {},
     "output_type": "execute_result"
    },
    {
     "data": {
      "image/png": "[encoded data removed]",
      "text/plain": [
       "<Figure size 640x480 with 1 Axes>"
      ]
     },
     "metadata": {},
     "output_type": "display_data"
    }
   ],
   "source": [
    "with open(depth_path1, 'rb') as handle:\n",
    "    img1 = pickle.load(handle)\n",
    "    \n",
    "with open(depth_path2, 'rb') as handle:\n",
    "    img2 = pickle.load(handle)\n",
    "    \n",
    "with open(depth_path3, 'rb') as handle:\n",
    "    img3 = pickle.load(handle)\n",
    "    \n",
    "with open(depth_path4, 'rb') as handle:\n",
    "    img4 = pickle.load(handle)\n",
    "    \n",
    "with open(depth_path5, 'rb') as handle:\n",
    "    img5 = pickle.load(handle)\n",
    "    \n",
    "with open(depth_path6, 'rb') as handle:\n",
    "    img6 = pickle.load(handle)\n",
    "    \n",
    "img_list = [img1, img2, img3, img4, img5, img6]\n",
    "plt.imshow(img, cmap='gray')"
   ]
  },
  {
   "cell_type": "code",
   "execution_count": 26,
   "metadata": {},
   "outputs": [],
   "source": [
    "R_list = [\n",
    "    pytorch3d.transforms.euler_angles_to_matrix(torch.Tensor([90,180,135])/180*np.pi, convention='XYZ'),\n",
    "    pytorch3d.transforms.euler_angles_to_matrix(torch.Tensor([100,180,180])/180*np.pi, convention='XYZ'),\n",
    "    pytorch3d.transforms.euler_angles_to_matrix(torch.Tensor([90,180,300])/180*np.pi, convention='XYZ'),\n",
    "    pytorch3d.transforms.euler_angles_to_matrix(torch.Tensor([90,180,360])/180*np.pi, convention='XYZ'),\n",
    "    pytorch3d.transforms.euler_angles_to_matrix(torch.Tensor([90,180,30])/180*np.pi, convention='XYZ'),\n",
    "    pytorch3d.transforms.euler_angles_to_matrix(torch.Tensor([80,180,70])/180*np.pi, convention='XYZ'),\n",
    "]"
   ]
  },
  {
   "cell_type": "code",
   "execution_count": 27,
   "metadata": {},
   "outputs": [
    {
     "name": "stderr",
     "output_type": "stream",
     "text": [
      "/home/ashwinvaswani/anaconda3/envs/pytorch3d_prohmr/lib/python3.9/site-packages/pytorch3d/io/obj_io.py:542: UserWarning:\n",
      "\n",
      "No mtl file provided\n",
      "\n"
     ]
    }
   ],
   "source": [
    "new_vertices, new_face_props, new_text_props = pytorch3d.io.load_obj(mesh_path)"
   ]
  },
  {
   "cell_type": "code",
   "execution_count": 38,
   "metadata": {},
   "outputs": [],
   "source": [
    "device = torch.device(\"cuda:1\")\n",
    "aspect_ratio = 1920 / 1080\n",
    "\n",
    "x, y, z = 0, 0, 0\n",
    "T = torch.tensor([0.26754171723194514+x, -0.18489293568114512+y, 2.424635552723259+z]).float().to(device)\n",
    "\n",
    "out_list = []\n",
    "for i in range(6):\n",
    "    R = R_list[i]\n",
    "    cameras = pytorch3d.renderer.FoVPerspectiveCameras(\n",
    "                        R=R.T.unsqueeze(0), T=T.unsqueeze(0), fov=60, device=device, aspect_ratio=aspect_ratio, \n",
    "                    )\n",
    "    cull=img[img>0].min()\n",
    "    dist = torch.distributions.uniform.Uniform(-1, 1)\n",
    "    grid = dist.sample((1, 1, 2073600, 2)).to(device)\n",
    "    depth_sample = torch.nn.functional.grid_sample(torch.Tensor(img_list[i]).unsqueeze(0).permute(0, 3, 1, 2).to(device), grid, align_corners=True)\n",
    "    uv_depth = torch.cat([grid[0, 0]*-1, depth_sample[0, 0, 0].unsqueeze(-1)], dim=1)\n",
    "    xyz_unproj_world = cameras.unproject_points(uv_depth, world_coordinates=True)\n",
    "    # xyz_unproj_world = xyz_unproj_world[uv_depth[:,-1]>cull]\n",
    "    out_list.append(xyz_unproj_world)"
   ]
  },
  {
   "cell_type": "code",
   "execution_count": null,
   "metadata": {},
   "outputs": [],
   "source": [
    "# pc_out = []\n",
    "# for i in range(6):\n",
    "#     xyz_unproj_world = out_list[i]\n",
    "#     xyz_unproj_world = torch.Tensor(xyz_unproj_world).to(device)\n",
    "\n",
    "#     if len(xyz_unproj_world.shape) < 3:\n",
    "#         xyz_unproj_world = xyz_unproj_world.unsqueeze(0)\n",
    "\n",
    "#     rgbs = torch.ones_like(xyz_unproj_world).to(device)\n",
    "#     if len(rgbs.shape) < 3:\n",
    "#         rgbs = rgbs.unsqueeze(0)\n",
    "        \n",
    "#     pc_out.append(pytorch3d.structures.Pointclouds(points=xyz_unproj_world, features=rgbs*0).to(device))\n",
    "\n",
    "# point_cloud_gt = pytorch3d.structures.Pointclouds(points=new_vertices.unsqueeze(0), features=torch.ones_like(new_vertices).unsqueeze(0)).to(device)\n",
    "\n",
    "# fig2 = plot_scene({\n",
    "#     \"figure\": {\n",
    "#         \"pc_0\": pc_out[0],\n",
    "#         \"pc_1\": pc_out[1],\n",
    "#         \"pc_2\": pc_out[2],\n",
    "#         \"pc_3\": pc_out[3],\n",
    "#         \"pc_4\": pc_out[4],\n",
    "#         \"pc_5\": pc_out[5],\n",
    "#         \"pointcloud_gt\": point_cloud_gt,\n",
    "#         \"Camera\": cameras,\n",
    "#     }\n",
    "# },\n",
    "#     xaxis={\"backgroundcolor\":\"rgb(200, 200, 230)\"},\n",
    "#     yaxis={\"backgroundcolor\":\"rgb(230, 200, 200)\"},\n",
    "#     zaxis={\"backgroundcolor\":\"rgb(200, 230, 200)\"}, \n",
    "#     axis_args=AxisArgs(showgrid=True))\n",
    "# fig2.show()"
   ]
  },
  {
   "cell_type": "code",
   "execution_count": null,
   "metadata": {},
   "outputs": [],
   "source": []
  }
 ],
 "metadata": {
  "kernelspec": {
   "display_name": "Python 3.9.16 ('pytorch3d_prohmr': conda)",
   "language": "python",
   "name": "python3"
  },
  "language_info": {
   "codemirror_mode": {
    "name": "ipython",
    "version": 3
   },
   "file_extension": ".py",
   "mimetype": "text/x-python",
   "name": "python",
   "nbconvert_exporter": "python",
   "pygments_lexer": "ipython3",
   "version": "3.9.16"
  },
  "orig_nbformat": 4,
  "vscode": {
   "interpreter": {
    "hash": "4e3bd10790233985a87fc6ccf7c8a2386850426aabc26daf83e63c856b59fee2"
   }
  }
 },
 "nbformat": 4,
 "nbformat_minor": 2
}
